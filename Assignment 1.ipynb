{
 "cells": [
  {
   "cell_type": "markdown",
   "metadata": {},
   "source": [
    "Fernanda Martinez                                                                   46025"
   ]
  },
  {
   "cell_type": "markdown",
   "metadata": {},
   "source": [
    "                          ASSIGNMENT 1"
   ]
  },
  {
   "cell_type": "markdown",
   "metadata": {},
   "source": [
    "1. Escriba un programa que lea un entero (input), lo multiplique por 3 y lo imprima."
   ]
  },
  {
   "cell_type": "code",
   "execution_count": 1,
   "metadata": {},
   "outputs": [
    {
     "name": "stdout",
     "output_type": "stream",
     "text": [
      "Introduzca un numero entero: 31\n",
      "93\n"
     ]
    }
   ],
   "source": [
    "numero = int(input('Introduzca un numero entero: ')) \n",
    "print(3 * numero)"
   ]
  },
  {
   "cell_type": "markdown",
   "metadata": {},
   "source": [
    "2. Escribir un programa que pida al cliente la longitud y ancho de la habitación e imprima la superficie de la habitación, los valores podrán tener decimales.                          Formato de salida deseado: xx.yy m^2"
   ]
  },
  {
   "cell_type": "code",
   "execution_count": 2,
   "metadata": {
    "scrolled": true
   },
   "outputs": [
    {
     "name": "stdout",
     "output_type": "stream",
     "text": [
      "longitud de la habitacion: 23\n",
      "ancho de la habitacion: 21.1\n",
      "485.3 m^2\n"
     ]
    }
   ],
   "source": [
    "longitud = float(input('longitud de la habitacion: ')) \n",
    "ancho = float(input('ancho de la habitacion: ')) \n",
    "print(round (ancho * longitud, 2) , \"m^2\")"
   ]
  },
  {
   "cell_type": "markdown",
   "metadata": {},
   "source": [
    "3. Determinar el área y volumen de un cilindro cuyas dimensiones (radio - altura) se lean desde el teclado.                                                                                        Formato de salida deseado: xx.yy m^3"
   ]
  },
  {
   "cell_type": "code",
   "execution_count": 3,
   "metadata": {},
   "outputs": [
    {
     "name": "stdout",
     "output_type": "stream",
     "text": [
      "Radio del cilindro: 2\n",
      "Altura del cilindro: 2\n",
      "12.57 m^2\n",
      "25.13 m^3\n"
     ]
    }
   ],
   "source": [
    "import math\n",
    "radio = float(input('Radio del cilindro: ')) \n",
    "altura = float(input('Altura del cilindro: ')) \n",
    "print(round (math.pi * radio**2 , 2) , \"m^2\") \n",
    "print(round (math.pi * radio**2 * altura, 2) , \"m^3\")"
   ]
  },
  {
   "cell_type": "markdown",
   "metadata": {},
   "source": [
    "4. La fuerza de atracción entre dos masas m1 y m2 separadas por una distancia d, está dada por la fórmula: F= (G*m1*m2)/d^2                                                                                   Donde G es la constante de gravitación universal: G=6.673*10^-8cm^3/g*seg^2                                                      Escriba un programa que lea la masa de dos cuerpos y la distancia entre ellos y a continuación obtenga la fuerza gravitacional entre ella. La salida debe ser en dinas; un DINA es igual a g*cm/seg^2                                                                                     Formato de salida deseado: xx.yy dyn"
   ]
  },
  {
   "cell_type": "code",
   "execution_count": 2,
   "metadata": {},
   "outputs": [
    {
     "name": "stdout",
     "output_type": "stream",
     "text": [
      "masa cuerpo1 en gramos: 12.434\n",
      "masa cuerpo2 en gramos: 66.67\n",
      "distancia entre masas en centimetros: 7.2\n",
      "1.0670811548881172e-06 dyn\n"
     ]
    }
   ],
   "source": [
    "m1 = float(input('masa cuerpo1 en gramos: ')) \n",
    "m2 = float(input('masa cuerpo2 en gramos: ')) \n",
    "d = float(input('distancia entre masas en centimetros: '))\n",
    "g = 6.673 * 10**-8\n",
    "print(((g * m1 * m2)/ d**2) , \"dyn\")"
   ]
  },
  {
   "cell_type": "markdown",
   "metadata": {},
   "source": [
    "5. La famosa ecuación de Einstein para conversión de una masa m en energía viene dada por la fórmula:                                                                                         E=cm^3                                                                                          c=2.997925*10^10 m/s es la velocidad                                                      Escribir un programa que lea una masa en gramos y obtenga la cantidad de energía producida cuando la masa se convierta en energía. Nota: se la masa se da en gramos, la fórmula produce la energía en ergios.                                                                      Formato de salida deseado: xx.yy erg        "
   ]
  },
  {
   "cell_type": "code",
   "execution_count": 3,
   "metadata": {},
   "outputs": [
    {
     "name": "stdout",
     "output_type": "stream",
     "text": [
      "masa en gramos: 100\n",
      "2.997925e+16 erg\n"
     ]
    }
   ],
   "source": [
    "m = float(input('masa en gramos: ')) \n",
    "ls = 2.997925*10**10\n",
    "print(ls * m**3  , \"erg\")"
   ]
  },
  {
   "cell_type": "markdown",
   "metadata": {},
   "source": [
    "6. Escribir un programa que lea la hora en un día de notación 24 horas y escriba la respuesta en notación de 12 horas. Por ejemplo, si la entrada es 13:45, la salida será: 1:45 PM                                                                                                 El programa pedirá al usuario que introduzca exactamente cinco caracteres. Así, por ejemplo, las nueve en punto se introduce como:                                                        09:00"
   ]
  },
  {
   "cell_type": "code",
   "execution_count": 7,
   "metadata": {},
   "outputs": [
    {
     "name": "stdout",
     "output_type": "stream",
     "text": [
      "Hora: 12:11\n",
      "00 : 11 PM\n"
     ]
    }
   ],
   "source": [
    "entrada = input(\"Hora: \") \n",
    "if (len(entrada) > 5) and (len(entrada)<5) : \n",
    "    print (\"Solo 5 caracteres admitidos\")\n",
    "else : \n",
    "    hora = entrada.split(':')\n",
    "    doce=['00','01','02','03','04','05','06','07','08','09','10','11']        \n",
    "    if (hora[0] in doce):        \n",
    "        print (entrada, \"AM\")\n",
    "    else : \n",
    "        completo = ['12', '13', '14', '15', '16', '17', '18', '19', '20', '21', '22', '23']\n",
    "        print (doce[completo.index(hora[0])], \":\", hora[1],\"PM\")\n"
   ]
  },
  {
   "cell_type": "markdown",
   "metadata": {},
   "source": [
    "7. Leer un número A, evaluar sucesivamente las expresiones siguientes y desplegar los resultados obtenidos en un archivo denominado “practica01.out”.                                          B = A + 10                                                                                                                   C = 2 * B + A                                                                                                                   D = A + B + C + 5                                                                                                                   Formato de salida deseado:                                                                                                                   Ejercicio 9.                                                                                                                   A = xx                                                                                                                            B = yy                                                                                                                            C = zz                                                                                                                            D = xyz"
   ]
  },
  {
   "cell_type": "code",
   "execution_count": 4,
   "metadata": {},
   "outputs": [
    {
     "name": "stdout",
     "output_type": "stream",
     "text": [
      "Inserte un entero: 7\n"
     ]
    }
   ],
   "source": [
    "A = int(input('Inserte un entero: ')) \n",
    "B = A + 10\n",
    "C = 2 * B + A\n",
    "D = A + B + C + 5\n",
    "print(\"Ejercicio 9.\\nA = \", A , \"\\nB = \", B ,\"\\nC = \", C ,\"\\nD = \", D, file=open(\"practica01.out\",\"w\"))"
   ]
  },
  {
   "cell_type": "markdown",
   "metadata": {},
   "source": [
    "8. Hacer leer un número X de tipo decimal, hallar su valor absoluto y decimal, desplegar el resultado dentro del archivo “practica01.out”.                                               Formato de salida deseado:                                                                                 Ejercicio 8.                                                                                 Número: xx.yy                                                                                 Valor absoluto: xx                                                                                 Parte decimal: yy"
   ]
  },
  {
   "cell_type": "code",
   "execution_count": 5,
   "metadata": {},
   "outputs": [
    {
     "name": "stdout",
     "output_type": "stream",
     "text": [
      "Inserte un numero decimal: 0207.2000\n"
     ]
    }
   ],
   "source": [
    "x = float(input('Inserte un numero decimal: ')) \n",
    "xs = str(x)\n",
    "numero = xs.split('.')\n",
    "print(\"Ejercicio 8.\\nNúmero: \", x,\"\\nValor absoluto: \", numero[0],\"\\nParte decimal: \", numero[1], file=open(\"practica01.out\",\"a\"))"
   ]
  },
  {
   "cell_type": "markdown",
   "metadata": {},
   "source": [
    "9. Leer a, b, c y d, hallar el menor y mayor de los cuatro números, desplegar su resultado en el archivo “practica01.out”."
   ]
  },
  {
   "cell_type": "code",
   "execution_count": 6,
   "metadata": {},
   "outputs": [
    {
     "name": "stdout",
     "output_type": "stream",
     "text": [
      "Inserte un entero A: 7\n",
      "Inserte un entero B: 2\n",
      "Inserte un entero C: 27\n",
      "Inserte un entero D: 72\n"
     ]
    }
   ],
   "source": [
    "a = int(input('Inserte un entero A: ')) \n",
    "b = int(input('Inserte un entero B: ')) \n",
    "c = int(input('Inserte un entero C: ')) \n",
    "d = int(input('Inserte un entero D: ')) \n",
    "lista=[a,b,c,d]\n",
    "print(\"Numero mayor :\", max(lista), \"\\nNumero menor :\", min(lista), file=open(\"practica01.out\",\"a\"))"
   ]
  },
  {
   "cell_type": "markdown",
   "metadata": {},
   "source": [
    "10. Dado los valores de X, Y, Z, evaluar A = X^2+Y^2+Z^2. Si se cumple que, A<100 y Y<5 calcular B = (X+Y)^2 – X*Z, caso contrario calcular B = (X-Y)^2 + X*Z. Desplegar A y B en el archivo “practica01.out”"
   ]
  },
  {
   "cell_type": "code",
   "execution_count": 7,
   "metadata": {},
   "outputs": [
    {
     "name": "stdout",
     "output_type": "stream",
     "text": [
      "Inserte un entero X: 100\n",
      "Inserte un entero Y: 50\n",
      "Inserte un entero Z: 25\n"
     ]
    }
   ],
   "source": [
    "X = int(input('Inserte un entero X: ')) \n",
    "Y = int(input('Inserte un entero Y: ')) \n",
    "Z = int(input('Inserte un entero Z: '))\n",
    "A = X**2+Y**2+Z**2\n",
    "if (A < 100) and (Y < 5):\n",
    "    B = (X+Y)**2-X*Z\n",
    "else:\n",
    "    B = (X-Y)**2+X*Z\n",
    "print (\"A = \", A ,\"\\nB = \", B, file=open(\"practica01.out\",\"a\") )"
   ]
  },
  {
   "cell_type": "markdown",
   "metadata": {},
   "source": [
    "21 de febrero, 2020"
   ]
  }
 ],
 "metadata": {
  "kernelspec": {
   "display_name": "Python 3",
   "language": "python",
   "name": "python3"
  },
  "language_info": {
   "codemirror_mode": {
    "name": "ipython",
    "version": 3
   },
   "file_extension": ".py",
   "mimetype": "text/x-python",
   "name": "python",
   "nbconvert_exporter": "python",
   "pygments_lexer": "ipython3",
   "version": "3.7.4"
  }
 },
 "nbformat": 4,
 "nbformat_minor": 2
}
